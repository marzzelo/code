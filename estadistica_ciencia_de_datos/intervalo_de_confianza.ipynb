{
 "cells": [
  {
   "cell_type": "markdown",
   "metadata": {},
   "source": [
    "@author: Octavio Gutiérrez de Código Máquina \n",
    "\n",
    "URL del canal: https://www.youtube.com/CodigoMaquina \n",
    "\n",
    "URL del video: https://youtu.be/343XPoh5q_Q\n",
    "\n",
    "<h1 style=\"color:purple\"> Cálculo de Intervalo de Confianza</h1>"
   ]
  },
  {
   "cell_type": "code",
   "execution_count": 2,
   "metadata": {},
   "outputs": [
    {
     "name": "stdout",
     "output_type": "stream",
     "text": [
      "\n",
      "Intervalo de Confianza con un nivel de 95%\n",
      "\n",
      "(168.10070315393247, 170.75529684606752)\n",
      "(168.1006787640933, 170.7553212359067)\n",
      "\n",
      "Cálculo de valores z para un cierto Nivel de Confianza\n",
      "\n",
      "90%: 1.6448536269514722\n",
      "95%: 1.959963984540054\n",
      "99%: 2.5758293035489004\n"
     ]
    }
   ],
   "source": [
    "import numpy as np\n",
    "import scipy.stats as stats \n",
    "from math import sqrt\n",
    "\n",
    "# Muestra de 100 personas con media de 170 cm y desv est de 8\n",
    "# alturas = np.round(np.random.normal(170, 8, 100), 1)\n",
    "\n",
    "alturas = np.array([174.4, 171.1, 160.4, 166.1, 173.0, 163.5,\n",
    "                    150.5, 169.3, 177.9, 167.5, 157.4, 165.3,\n",
    "                    161.2, 170.1, 175.8, 167.8, 172.7, 160.8, \n",
    "                    182.5, 165.9, 162.4, 164.1, 181.2, 166.0,\n",
    "                    176.8, 176.1, 172.5, 173.3, 169.0, 171.6,\n",
    "                    163.1, 171.3, 168.5, 158.0, 169.1, 173.3,\n",
    "                    165.7, 166.5, 163.1, 167.2, 180.6, 175.2,\n",
    "                    154.8, 180.1, 164.3, 161.2, 178.8, 171.6,\n",
    "                    160.7, 171.6, 176.2, 172.7, 171.3, 176.9,\n",
    "                    182.5, 170.4, 175.8, 164.6, 168.3, 167.6,\n",
    "                    160.8, 175.9, 169.2, 166.8, 171.4, 168.0,\n",
    "                    173.7, 169.8, 176.5, 166.0, 161.6, 164.8,\n",
    "                    173.6, 166.9, 168.2, 171.2, 156.0, 171.7,\n",
    "                    168.2, 177.7, 169.7, 179.2, 179.9, 175.7,\n",
    "                    165.1, 173.8, 168.2, 166.6, 178.7, 158.6,\n",
    "                    175.6, 161.0, 157.5, 169.8, 183.1, 164.3,\n",
    "                    180.1, 167.6, 165.2, 167.9])\n",
    "\n",
    "print(\"\\nIntervalo de Confianza con un nivel de 95%\\n\")\n",
    "print(stats.norm.interval(0.95, \n",
    "                          loc = np.mean(alturas), \n",
    "                          scale = alturas.std(ddof=1)/sqrt(alturas.size)))\n",
    "\n",
    "print((alturas.mean() - 1.960*(alturas.std(ddof=1)/sqrt(alturas.size)),\n",
    "       alturas.mean() + 1.960*(alturas.std(ddof=1)/sqrt(alturas.size))))\n",
    "\n",
    "print(\"\\nCálculo de valores z para un cierto Nivel de Confianza\\n\")\n",
    "print(\"90%:\", stats.norm.ppf(1 - (1 - 0.90)/2))\n",
    "print(\"95%:\", stats.norm.ppf(1 - (1 - 0.95)/2))\n",
    "print(\"99%:\", stats.norm.ppf(1 - (1 - 0.99)/2))"
   ]
  },
  {
   "cell_type": "markdown",
   "metadata": {},
   "source": [
    "\n",
    "<h1 style=\"color:purple\"> Graficar Intervalo de Confianza</h1>"
   ]
  },
  {
   "cell_type": "code",
   "execution_count": 3,
   "metadata": {},
   "outputs": [
    {
     "name": "stderr",
     "output_type": "stream",
     "text": [
      "C:\\Users\\valdez\\AppData\\Local\\Temp\\ipykernel_10120\\1967777531.py:11: FutureWarning: \n",
      "\n",
      "The `ci` parameter is deprecated. Use `errorbar=('ci', 99)` for the same effect.\n",
      "\n",
      "  grafica = sns.barplot(data=alturas, ci=99, capsize=0.20)\n"
     ]
    },
    {
     "data": {
      "image/png": "[encoded data removed]",
      "text/plain": [
       "<Figure size 640x480 with 1 Axes>"
      ]
     },
     "metadata": {},
     "output_type": "display_data"
    }
   ],
   "source": [
    "import seaborn as sns\n",
    "import pandas as pd\n",
    "import matplotlib.pyplot as plt\n",
    "\n",
    "alturas = pd.DataFrame()\n",
    "\n",
    "# Muestras de 100 hombres y 100 mujeres\n",
    "alturas[\"Hombres\"] = np.round(np.random.normal(170, 10, 100), 1)\n",
    "alturas[\"Mujeres\"] = np.round(np.random.normal(150, 10, 100), 1)\n",
    "\n",
    "grafica = sns.barplot(data=alturas, ci=99, capsize=0.20)\n",
    "grafica.set(title=\"Intervalo de Confianza del 99%\", \n",
    "            ylabel=\"Altura Promedio (cm)\")\n",
    "plt.show()\n",
    "\n"
   ]
  },
  {
   "cell_type": "markdown",
   "metadata": {},
   "source": [
    "<br><br><br><br><br><br><br><br><br><br><br><br><br><br><br><br><br><br><br><br><br><br><br><br><br><br><br><br><br><br><br><br><br><br><br><br>\n"
   ]
  }
 ],
 "metadata": {
  "kernelspec": {
   "display_name": "Python 3 (ipykernel)",
   "language": "python",
   "name": "python3"
  },
  "language_info": {
   "codemirror_mode": {
    "name": "ipython",
    "version": 3
   },
   "file_extension": ".py",
   "mimetype": "text/x-python",
   "name": "python",
   "nbconvert_exporter": "python",
   "pygments_lexer": "ipython3",
   "version": "3.12.1"
  }
 },
 "nbformat": 4,
 "nbformat_minor": 4
}
