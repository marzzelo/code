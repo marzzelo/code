{
 "cells": [
  {
   "cell_type": "markdown",
   "metadata": {},
   "source": [
    "## Creación y Manipulación de DataFrames\n",
    "@author: Octavio Gutiérrez de Código Máquina\n",
    "\n",
    "URL del canal: https://www.youtube.com/CodigoMaquina\n",
    "\n",
    "URL del video: https://youtu.be/DjQyHmy9AqQ"
   ]
  },
  {
   "cell_type": "markdown",
   "metadata": {},
   "source": [
    "### Creación de un DataFrame"
   ]
  },
  {
   "cell_type": "code",
   "execution_count": 145,
   "metadata": {},
   "outputs": [
    {
     "data": {
      "text/html": [
       "<div>\n",
       "<style scoped>\n",
       "    .dataframe tbody tr th:only-of-type {\n",
       "        vertical-align: middle;\n",
       "    }\n",
       "\n",
       "    .dataframe tbody tr th {\n",
       "        vertical-align: top;\n",
       "    }\n",
       "\n",
       "    .dataframe thead th {\n",
       "        text-align: right;\n",
       "    }\n",
       "</style>\n",
       "<table border=\"1\" class=\"dataframe\">\n",
       "  <thead>\n",
       "    <tr style=\"text-align: right;\">\n",
       "      <th></th>\n",
       "      <th>poblacion</th>\n",
       "      <th>porcentaje</th>\n",
       "    </tr>\n",
       "  </thead>\n",
       "  <tbody>\n",
       "    <tr>\n",
       "      <th>China</th>\n",
       "      <td>1439</td>\n",
       "      <td>18.47</td>\n",
       "    </tr>\n",
       "    <tr>\n",
       "      <th>India</th>\n",
       "      <td>1380</td>\n",
       "      <td>17.70</td>\n",
       "    </tr>\n",
       "    <tr>\n",
       "      <th>Estados Unidos</th>\n",
       "      <td>331</td>\n",
       "      <td>4.25</td>\n",
       "    </tr>\n",
       "    <tr>\n",
       "      <th>Indonesia</th>\n",
       "      <td>273</td>\n",
       "      <td>3.51</td>\n",
       "    </tr>\n",
       "    <tr>\n",
       "      <th>Pakistán</th>\n",
       "      <td>220</td>\n",
       "      <td>2.83</td>\n",
       "    </tr>\n",
       "    <tr>\n",
       "      <th>Brasil</th>\n",
       "      <td>212</td>\n",
       "      <td>2.73</td>\n",
       "    </tr>\n",
       "    <tr>\n",
       "      <th>Nigeria</th>\n",
       "      <td>206</td>\n",
       "      <td>2.64</td>\n",
       "    </tr>\n",
       "    <tr>\n",
       "      <th>Bangladesh</th>\n",
       "      <td>164</td>\n",
       "      <td>2.11</td>\n",
       "    </tr>\n",
       "    <tr>\n",
       "      <th>Rusia</th>\n",
       "      <td>145</td>\n",
       "      <td>1.87</td>\n",
       "    </tr>\n",
       "    <tr>\n",
       "      <th>México</th>\n",
       "      <td>128</td>\n",
       "      <td>1.65</td>\n",
       "    </tr>\n",
       "  </tbody>\n",
       "</table>\n",
       "</div>"
      ],
      "text/plain": [
       "                poblacion  porcentaje\n",
       "China                1439       18.47\n",
       "India                1380       17.70\n",
       "Estados Unidos        331        4.25\n",
       "Indonesia             273        3.51\n",
       "Pakistán              220        2.83\n",
       "Brasil                212        2.73\n",
       "Nigeria               206        2.64\n",
       "Bangladesh            164        2.11\n",
       "Rusia                 145        1.87\n",
       "México                128        1.65"
      ]
     },
     "execution_count": 145,
     "metadata": {},
     "output_type": "execute_result"
    }
   ],
   "source": [
    "import pandas as pd\n",
    "\n",
    "nombre_paises = [\"China\", \"India\", \"Estados Unidos\", \"Indonesia\", \"Pakistán\",\n",
    "                 \"Brasil\", \"Nigeria\", \"Bangladesh\", \"Rusia\", \"México\"]\n",
    "\n",
    "encabezado = [\"poblacion\", \"porcentaje\"]\n",
    "\n",
    "datos = [[1439, 18.47],\n",
    "        [1380, 17.70],\n",
    "        [331, 4.25],\n",
    "        [273, 3.51], \n",
    "        [220, 2.83],\n",
    "        [212, 2.73], \n",
    "        [206, 2.64],\n",
    "        [164, 2.11],\n",
    "        [145, 1.87],\n",
    "        [128, 1.65]]\n",
    "\n",
    "paises = pd.DataFrame(datos, index=nombre_paises, columns=encabezado)\n",
    "paises\n"
   ]
  },
  {
   "cell_type": "code",
   "execution_count": 146,
   "metadata": {},
   "outputs": [
    {
     "data": {
      "text/html": [
       "<div>\n",
       "<style scoped>\n",
       "    .dataframe tbody tr th:only-of-type {\n",
       "        vertical-align: middle;\n",
       "    }\n",
       "\n",
       "    .dataframe tbody tr th {\n",
       "        vertical-align: top;\n",
       "    }\n",
       "\n",
       "    .dataframe thead th {\n",
       "        text-align: right;\n",
       "    }\n",
       "</style>\n",
       "<table border=\"1\" class=\"dataframe\">\n",
       "  <thead>\n",
       "    <tr style=\"text-align: right;\">\n",
       "      <th></th>\n",
       "      <th>poblacion</th>\n",
       "      <th>porcentaje</th>\n",
       "    </tr>\n",
       "  </thead>\n",
       "  <tbody>\n",
       "    <tr>\n",
       "      <th>China</th>\n",
       "      <td>1439.0</td>\n",
       "      <td>18.47</td>\n",
       "    </tr>\n",
       "    <tr>\n",
       "      <th>India</th>\n",
       "      <td>1380.0</td>\n",
       "      <td>17.70</td>\n",
       "    </tr>\n",
       "    <tr>\n",
       "      <th>Estados Unidos</th>\n",
       "      <td>331.0</td>\n",
       "      <td>4.25</td>\n",
       "    </tr>\n",
       "    <tr>\n",
       "      <th>Indonesia</th>\n",
       "      <td>273.0</td>\n",
       "      <td>3.51</td>\n",
       "    </tr>\n",
       "    <tr>\n",
       "      <th>Pakistán</th>\n",
       "      <td>220.0</td>\n",
       "      <td>2.83</td>\n",
       "    </tr>\n",
       "    <tr>\n",
       "      <th>Brasil</th>\n",
       "      <td>212.0</td>\n",
       "      <td>2.73</td>\n",
       "    </tr>\n",
       "    <tr>\n",
       "      <th>Nigeria</th>\n",
       "      <td>206.0</td>\n",
       "      <td>2.64</td>\n",
       "    </tr>\n",
       "    <tr>\n",
       "      <th>Bangladesh</th>\n",
       "      <td>164.0</td>\n",
       "      <td>2.11</td>\n",
       "    </tr>\n",
       "    <tr>\n",
       "      <th>Rusia</th>\n",
       "      <td>145.0</td>\n",
       "      <td>1.87</td>\n",
       "    </tr>\n",
       "    <tr>\n",
       "      <th>México</th>\n",
       "      <td>128.0</td>\n",
       "      <td>1.65</td>\n",
       "    </tr>\n",
       "  </tbody>\n",
       "</table>\n",
       "</div>"
      ],
      "text/plain": [
       "                poblacion  porcentaje\n",
       "China              1439.0       18.47\n",
       "India              1380.0       17.70\n",
       "Estados Unidos      331.0        4.25\n",
       "Indonesia           273.0        3.51\n",
       "Pakistán            220.0        2.83\n",
       "Brasil              212.0        2.73\n",
       "Nigeria             206.0        2.64\n",
       "Bangladesh          164.0        2.11\n",
       "Rusia               145.0        1.87\n",
       "México              128.0        1.65"
      ]
     },
     "execution_count": 146,
     "metadata": {},
     "output_type": "execute_result"
    }
   ],
   "source": [
    "datos = {\"China\": [1439, 18.47],\n",
    "         \"India\": [1380, 17.70],\n",
    "         \"Estados Unidos\": [331, 4.25],\n",
    "         \"Indonesia\": [273, 3.51], \n",
    "         \"Pakistán\": [220, 2.83],\n",
    "         \"Brasil\": [212, 2.73], \n",
    "         \"Nigeria\": [206, 2.64],\n",
    "         \"Bangladesh\": [164, 2.11],\n",
    "         \"Rusia\": [145, 1.87],\n",
    "         \"México\": [128, 1.65]}\n",
    "\n",
    "paises = pd.DataFrame(datos, index=encabezado)\n",
    "paises = paises.T\n",
    "paises\n"
   ]
  },
  {
   "cell_type": "markdown",
   "metadata": {},
   "source": [
    "### Atributos básicos de  un DataFrame"
   ]
  },
  {
   "cell_type": "code",
   "execution_count": 147,
   "metadata": {},
   "outputs": [
    {
     "data": {
      "text/plain": [
       "poblacion     float64\n",
       "porcentaje    float64\n",
       "dtype: object"
      ]
     },
     "execution_count": 147,
     "metadata": {},
     "output_type": "execute_result"
    }
   ],
   "source": [
    "paises.dtypes"
   ]
  },
  {
   "cell_type": "code",
   "execution_count": 148,
   "metadata": {},
   "outputs": [
    {
     "data": {
      "text/plain": [
       "(array([[1439.  ,   18.47],\n",
       "        [1380.  ,   17.7 ],\n",
       "        [ 331.  ,    4.25],\n",
       "        [ 273.  ,    3.51],\n",
       "        [ 220.  ,    2.83],\n",
       "        [ 212.  ,    2.73],\n",
       "        [ 206.  ,    2.64],\n",
       "        [ 164.  ,    2.11],\n",
       "        [ 145.  ,    1.87],\n",
       "        [ 128.  ,    1.65]]),\n",
       " 20)"
      ]
     },
     "execution_count": 148,
     "metadata": {},
     "output_type": "execute_result"
    }
   ],
   "source": [
    "paises.values, paises.size"
   ]
  },
  {
   "cell_type": "code",
   "execution_count": 149,
   "metadata": {},
   "outputs": [
    {
     "data": {
      "text/plain": [
       "(Index(['China', 'India', 'Estados Unidos', 'Indonesia', 'Pakistán', 'Brasil',\n",
       "        'Nigeria', 'Bangladesh', 'Rusia', 'México'],\n",
       "       dtype='object'),\n",
       " Index(['poblacion', 'porcentaje'], dtype='object'))"
      ]
     },
     "execution_count": 149,
     "metadata": {},
     "output_type": "execute_result"
    }
   ],
   "source": [
    "paises.index, paises.columns"
   ]
  },
  {
   "cell_type": "markdown",
   "metadata": {},
   "source": [
    "### Acceso a los elementos de un DataFrame\n"
   ]
  },
  {
   "cell_type": "code",
   "execution_count": 150,
   "metadata": {},
   "outputs": [
    {
     "data": {
      "text/plain": [
       "China             1439.0\n",
       "India             1380.0\n",
       "Estados Unidos     331.0\n",
       "Indonesia          273.0\n",
       "Pakistán           220.0\n",
       "Brasil             212.0\n",
       "Nigeria            206.0\n",
       "Bangladesh         164.0\n",
       "Rusia              145.0\n",
       "México             128.0\n",
       "Name: poblacion, dtype: float64"
      ]
     },
     "execution_count": 150,
     "metadata": {},
     "output_type": "execute_result"
    }
   ],
   "source": [
    "paises.poblacion"
   ]
  },
  {
   "cell_type": "code",
   "execution_count": 151,
   "metadata": {},
   "outputs": [
    {
     "data": {
      "text/plain": [
       "(China             1439.0\n",
       " India             1380.0\n",
       " Estados Unidos     331.0\n",
       " Indonesia          273.0\n",
       " Pakistán           220.0\n",
       " Brasil             212.0\n",
       " Nigeria            206.0\n",
       " Bangladesh         164.0\n",
       " Rusia              145.0\n",
       " México             128.0\n",
       " Name: poblacion, dtype: float64,\n",
       "                 poblacion  porcentaje\n",
       " China              1439.0       18.47\n",
       " India              1380.0       17.70\n",
       " Estados Unidos      331.0        4.25\n",
       " Indonesia           273.0        3.51\n",
       " Pakistán            220.0        2.83\n",
       " Brasil              212.0        2.73\n",
       " Nigeria             206.0        2.64\n",
       " Bangladesh          164.0        2.11\n",
       " Rusia               145.0        1.87\n",
       " México              128.0        1.65)"
      ]
     },
     "execution_count": 151,
     "metadata": {},
     "output_type": "execute_result"
    }
   ],
   "source": [
    "paises[\"poblacion\"], paises[[\"poblacion\", \"porcentaje\"]]"
   ]
  },
  {
   "cell_type": "code",
   "execution_count": 152,
   "metadata": {},
   "outputs": [
    {
     "name": "stdout",
     "output_type": "stream",
     "text": [
      "1439.0 \n",
      "\n",
      "1439.0 \n",
      "\n",
      "China             1439.0\n",
      "India             1380.0\n",
      "Estados Unidos     331.0\n",
      "Name: poblacion, dtype: float64 \n",
      "\n"
     ]
    }
   ],
   "source": [
    "print(paises.loc[:,\"poblacion\"].iloc[0], \"\\n\")\n",
    "print(paises.poblacion.iloc[0], \"\\n\")\n",
    "print(paises.loc[:,\"poblacion\"].iloc[0:3], \"\\n\")"
   ]
  },
  {
   "cell_type": "code",
   "execution_count": 153,
   "metadata": {},
   "outputs": [
    {
     "data": {
      "text/plain": [
       "(poblacion     1439.00\n",
       " porcentaje      18.47\n",
       " Name: China, dtype: float64,\n",
       " poblacion     1439.00\n",
       " porcentaje      18.47\n",
       " Name: China, dtype: float64)"
      ]
     },
     "execution_count": 153,
     "metadata": {},
     "output_type": "execute_result"
    }
   ],
   "source": [
    "paises.iloc[0], paises.loc[\"China\"]"
   ]
  },
  {
   "cell_type": "markdown",
   "metadata": {},
   "source": [
    "### Métodos básicos comunes de DataFrames"
   ]
  },
  {
   "cell_type": "code",
   "execution_count": 154,
   "metadata": {},
   "outputs": [],
   "source": [
    "paises[\"poblacion\"] = paises[\"poblacion\"].astype(\"i2\")"
   ]
  },
  {
   "cell_type": "code",
   "execution_count": 155,
   "metadata": {},
   "outputs": [
    {
     "name": "stdout",
     "output_type": "stream",
     "text": [
      "<class 'pandas.core.frame.DataFrame'>\n",
      "Index: 10 entries, China to México\n",
      "Data columns (total 2 columns):\n",
      " #   Column      Non-Null Count  Dtype  \n",
      "---  ------      --------------  -----  \n",
      " 0   poblacion   10 non-null     int16  \n",
      " 1   porcentaje  10 non-null     float64\n",
      "dtypes: float64(1), int16(1)\n",
      "memory usage: 480.0+ bytes\n"
     ]
    }
   ],
   "source": [
    "paises.info()"
   ]
  },
  {
   "cell_type": "code",
   "execution_count": 156,
   "metadata": {},
   "outputs": [
    {
     "data": {
      "text/plain": [
       "(                poblacion  porcentaje\n",
       " China                1439       18.47\n",
       " India                1380       17.70\n",
       " Estados Unidos        331        4.25\n",
       " Indonesia             273        3.51\n",
       " Pakistán              220        2.83,\n",
       "             poblacion  porcentaje\n",
       " Brasil            212        2.73\n",
       " Nigeria           206        2.64\n",
       " Bangladesh        164        2.11\n",
       " Rusia             145        1.87\n",
       " México            128        1.65)"
      ]
     },
     "execution_count": 156,
     "metadata": {},
     "output_type": "execute_result"
    }
   ],
   "source": [
    "paises.head(), paises.tail()"
   ]
  },
  {
   "cell_type": "code",
   "execution_count": 157,
   "metadata": {},
   "outputs": [
    {
     "data": {
      "text/html": [
       "<div>\n",
       "<style scoped>\n",
       "    .dataframe tbody tr th:only-of-type {\n",
       "        vertical-align: middle;\n",
       "    }\n",
       "\n",
       "    .dataframe tbody tr th {\n",
       "        vertical-align: top;\n",
       "    }\n",
       "\n",
       "    .dataframe thead th {\n",
       "        text-align: right;\n",
       "    }\n",
       "</style>\n",
       "<table border=\"1\" class=\"dataframe\">\n",
       "  <thead>\n",
       "    <tr style=\"text-align: right;\">\n",
       "      <th></th>\n",
       "      <th>poblacion</th>\n",
       "      <th>porcentaje</th>\n",
       "    </tr>\n",
       "  </thead>\n",
       "  <tbody>\n",
       "    <tr>\n",
       "      <th>Bangladesh</th>\n",
       "      <td>164</td>\n",
       "      <td>2.11</td>\n",
       "    </tr>\n",
       "    <tr>\n",
       "      <th>Brasil</th>\n",
       "      <td>212</td>\n",
       "      <td>2.73</td>\n",
       "    </tr>\n",
       "    <tr>\n",
       "      <th>China</th>\n",
       "      <td>1439</td>\n",
       "      <td>18.47</td>\n",
       "    </tr>\n",
       "    <tr>\n",
       "      <th>Estados Unidos</th>\n",
       "      <td>331</td>\n",
       "      <td>4.25</td>\n",
       "    </tr>\n",
       "    <tr>\n",
       "      <th>India</th>\n",
       "      <td>1380</td>\n",
       "      <td>17.70</td>\n",
       "    </tr>\n",
       "    <tr>\n",
       "      <th>Indonesia</th>\n",
       "      <td>273</td>\n",
       "      <td>3.51</td>\n",
       "    </tr>\n",
       "    <tr>\n",
       "      <th>México</th>\n",
       "      <td>128</td>\n",
       "      <td>1.65</td>\n",
       "    </tr>\n",
       "    <tr>\n",
       "      <th>Nigeria</th>\n",
       "      <td>206</td>\n",
       "      <td>2.64</td>\n",
       "    </tr>\n",
       "    <tr>\n",
       "      <th>Pakistán</th>\n",
       "      <td>220</td>\n",
       "      <td>2.83</td>\n",
       "    </tr>\n",
       "    <tr>\n",
       "      <th>Rusia</th>\n",
       "      <td>145</td>\n",
       "      <td>1.87</td>\n",
       "    </tr>\n",
       "  </tbody>\n",
       "</table>\n",
       "</div>"
      ],
      "text/plain": [
       "                poblacion  porcentaje\n",
       "Bangladesh            164        2.11\n",
       "Brasil                212        2.73\n",
       "China                1439       18.47\n",
       "Estados Unidos        331        4.25\n",
       "India                1380       17.70\n",
       "Indonesia             273        3.51\n",
       "México                128        1.65\n",
       "Nigeria               206        2.64\n",
       "Pakistán              220        2.83\n",
       "Rusia                 145        1.87"
      ]
     },
     "execution_count": 157,
     "metadata": {},
     "output_type": "execute_result"
    }
   ],
   "source": [
    "paises.sort_index()"
   ]
  },
  {
   "cell_type": "code",
   "execution_count": 158,
   "metadata": {},
   "outputs": [
    {
     "data": {
      "text/html": [
       "<div>\n",
       "<style scoped>\n",
       "    .dataframe tbody tr th:only-of-type {\n",
       "        vertical-align: middle;\n",
       "    }\n",
       "\n",
       "    .dataframe tbody tr th {\n",
       "        vertical-align: top;\n",
       "    }\n",
       "\n",
       "    .dataframe thead th {\n",
       "        text-align: right;\n",
       "    }\n",
       "</style>\n",
       "<table border=\"1\" class=\"dataframe\">\n",
       "  <thead>\n",
       "    <tr style=\"text-align: right;\">\n",
       "      <th></th>\n",
       "      <th>poblacion</th>\n",
       "      <th>porcentaje</th>\n",
       "    </tr>\n",
       "  </thead>\n",
       "  <tbody>\n",
       "    <tr>\n",
       "      <th>China</th>\n",
       "      <td>1439</td>\n",
       "      <td>18.47</td>\n",
       "    </tr>\n",
       "    <tr>\n",
       "      <th>India</th>\n",
       "      <td>1380</td>\n",
       "      <td>17.70</td>\n",
       "    </tr>\n",
       "    <tr>\n",
       "      <th>Estados Unidos</th>\n",
       "      <td>331</td>\n",
       "      <td>4.25</td>\n",
       "    </tr>\n",
       "    <tr>\n",
       "      <th>Indonesia</th>\n",
       "      <td>273</td>\n",
       "      <td>3.51</td>\n",
       "    </tr>\n",
       "    <tr>\n",
       "      <th>Pakistán</th>\n",
       "      <td>220</td>\n",
       "      <td>2.83</td>\n",
       "    </tr>\n",
       "    <tr>\n",
       "      <th>Brasil</th>\n",
       "      <td>212</td>\n",
       "      <td>2.73</td>\n",
       "    </tr>\n",
       "    <tr>\n",
       "      <th>Nigeria</th>\n",
       "      <td>206</td>\n",
       "      <td>2.64</td>\n",
       "    </tr>\n",
       "    <tr>\n",
       "      <th>Bangladesh</th>\n",
       "      <td>164</td>\n",
       "      <td>2.11</td>\n",
       "    </tr>\n",
       "    <tr>\n",
       "      <th>Rusia</th>\n",
       "      <td>145</td>\n",
       "      <td>1.87</td>\n",
       "    </tr>\n",
       "    <tr>\n",
       "      <th>México</th>\n",
       "      <td>128</td>\n",
       "      <td>1.65</td>\n",
       "    </tr>\n",
       "  </tbody>\n",
       "</table>\n",
       "</div>"
      ],
      "text/plain": [
       "                poblacion  porcentaje\n",
       "China                1439       18.47\n",
       "India                1380       17.70\n",
       "Estados Unidos        331        4.25\n",
       "Indonesia             273        3.51\n",
       "Pakistán              220        2.83\n",
       "Brasil                212        2.73\n",
       "Nigeria               206        2.64\n",
       "Bangladesh            164        2.11\n",
       "Rusia                 145        1.87\n",
       "México                128        1.65"
      ]
     },
     "execution_count": 158,
     "metadata": {},
     "output_type": "execute_result"
    }
   ],
   "source": [
    "paises"
   ]
  },
  {
   "cell_type": "markdown",
   "metadata": {},
   "source": [
    "### Agregar y borrar renglones y columnas "
   ]
  },
  {
   "cell_type": "code",
   "execution_count": 159,
   "metadata": {},
   "outputs": [
    {
     "data": {
      "text/html": [
       "<div>\n",
       "<style scoped>\n",
       "    .dataframe tbody tr th:only-of-type {\n",
       "        vertical-align: middle;\n",
       "    }\n",
       "\n",
       "    .dataframe tbody tr th {\n",
       "        vertical-align: top;\n",
       "    }\n",
       "\n",
       "    .dataframe thead th {\n",
       "        text-align: right;\n",
       "    }\n",
       "</style>\n",
       "<table border=\"1\" class=\"dataframe\">\n",
       "  <thead>\n",
       "    <tr style=\"text-align: right;\">\n",
       "      <th></th>\n",
       "      <th>poblacion</th>\n",
       "      <th>porcentaje</th>\n",
       "      <th>tasa_fertilidad</th>\n",
       "    </tr>\n",
       "  </thead>\n",
       "  <tbody>\n",
       "    <tr>\n",
       "      <th>China</th>\n",
       "      <td>1439</td>\n",
       "      <td>18.47</td>\n",
       "      <td>1.7</td>\n",
       "    </tr>\n",
       "    <tr>\n",
       "      <th>India</th>\n",
       "      <td>1380</td>\n",
       "      <td>17.70</td>\n",
       "      <td>2.2</td>\n",
       "    </tr>\n",
       "    <tr>\n",
       "      <th>Estados Unidos</th>\n",
       "      <td>331</td>\n",
       "      <td>4.25</td>\n",
       "      <td>1.8</td>\n",
       "    </tr>\n",
       "    <tr>\n",
       "      <th>Indonesia</th>\n",
       "      <td>273</td>\n",
       "      <td>3.51</td>\n",
       "      <td>2.3</td>\n",
       "    </tr>\n",
       "    <tr>\n",
       "      <th>Pakistán</th>\n",
       "      <td>220</td>\n",
       "      <td>2.83</td>\n",
       "      <td>3.6</td>\n",
       "    </tr>\n",
       "    <tr>\n",
       "      <th>Brasil</th>\n",
       "      <td>212</td>\n",
       "      <td>2.73</td>\n",
       "      <td>1.7</td>\n",
       "    </tr>\n",
       "    <tr>\n",
       "      <th>Nigeria</th>\n",
       "      <td>206</td>\n",
       "      <td>2.64</td>\n",
       "      <td>5.4</td>\n",
       "    </tr>\n",
       "    <tr>\n",
       "      <th>Bangladesh</th>\n",
       "      <td>164</td>\n",
       "      <td>2.11</td>\n",
       "      <td>2.1</td>\n",
       "    </tr>\n",
       "    <tr>\n",
       "      <th>Rusia</th>\n",
       "      <td>145</td>\n",
       "      <td>1.87</td>\n",
       "      <td>1.8</td>\n",
       "    </tr>\n",
       "    <tr>\n",
       "      <th>México</th>\n",
       "      <td>128</td>\n",
       "      <td>1.65</td>\n",
       "      <td>2.1</td>\n",
       "    </tr>\n",
       "  </tbody>\n",
       "</table>\n",
       "</div>"
      ],
      "text/plain": [
       "                poblacion  porcentaje  tasa_fertilidad\n",
       "China                1439       18.47              1.7\n",
       "India                1380       17.70              2.2\n",
       "Estados Unidos        331        4.25              1.8\n",
       "Indonesia             273        3.51              2.3\n",
       "Pakistán              220        2.83              3.6\n",
       "Brasil                212        2.73              1.7\n",
       "Nigeria               206        2.64              5.4\n",
       "Bangladesh            164        2.11              2.1\n",
       "Rusia                 145        1.87              1.8\n",
       "México                128        1.65              2.1"
      ]
     },
     "execution_count": 159,
     "metadata": {},
     "output_type": "execute_result"
    }
   ],
   "source": [
    "tasa_fertilidad = [1.7, 2.2, 1.8, 2.3, 3.6, 1.7, 5.4, 2.1, 1.8, 2.1]\n",
    "paises[\"tasa_fertilidad\"] = tasa_fertilidad\n",
    "paises"
   ]
  },
  {
   "cell_type": "code",
   "execution_count": 160,
   "metadata": {},
   "outputs": [
    {
     "data": {
      "text/plain": [
       "China             1.7\n",
       "India             2.2\n",
       "Estados Unidos    1.8\n",
       "Indonesia         2.3\n",
       "Pakistán          3.6\n",
       "Brasil            1.7\n",
       "Nigeria           5.4\n",
       "Bangladesh        2.1\n",
       "Rusia             1.8\n",
       "México            2.1\n",
       "Name: tasa_fertilidad, dtype: float64"
      ]
     },
     "execution_count": 160,
     "metadata": {},
     "output_type": "execute_result"
    }
   ],
   "source": [
    "paises.pop(\"tasa_fertilidad\") \n",
    "#del paises[\"tasa_fertilidad\"]\n",
    "#paises.drop(\"tasa_fertilidad\", axis=1, inplace=True)"
   ]
  },
  {
   "cell_type": "code",
   "execution_count": 161,
   "metadata": {},
   "outputs": [
    {
     "name": "stdout",
     "output_type": "stream",
     "text": [
      "poblacion     126.00\n",
      "porcentaje      1.62\n",
      "Name: Japón, dtype: float64\n"
     ]
    },
    {
     "data": {
      "text/html": [
       "<div>\n",
       "<style scoped>\n",
       "    .dataframe tbody tr th:only-of-type {\n",
       "        vertical-align: middle;\n",
       "    }\n",
       "\n",
       "    .dataframe tbody tr th {\n",
       "        vertical-align: top;\n",
       "    }\n",
       "\n",
       "    .dataframe thead th {\n",
       "        text-align: right;\n",
       "    }\n",
       "</style>\n",
       "<table border=\"1\" class=\"dataframe\">\n",
       "  <thead>\n",
       "    <tr style=\"text-align: right;\">\n",
       "      <th></th>\n",
       "      <th>poblacion</th>\n",
       "      <th>porcentaje</th>\n",
       "    </tr>\n",
       "  </thead>\n",
       "  <tbody>\n",
       "    <tr>\n",
       "      <th>China</th>\n",
       "      <td>1439.0</td>\n",
       "      <td>18.47</td>\n",
       "    </tr>\n",
       "    <tr>\n",
       "      <th>India</th>\n",
       "      <td>1380.0</td>\n",
       "      <td>17.70</td>\n",
       "    </tr>\n",
       "    <tr>\n",
       "      <th>Estados Unidos</th>\n",
       "      <td>331.0</td>\n",
       "      <td>4.25</td>\n",
       "    </tr>\n",
       "    <tr>\n",
       "      <th>Indonesia</th>\n",
       "      <td>273.0</td>\n",
       "      <td>3.51</td>\n",
       "    </tr>\n",
       "    <tr>\n",
       "      <th>Pakistán</th>\n",
       "      <td>220.0</td>\n",
       "      <td>2.83</td>\n",
       "    </tr>\n",
       "    <tr>\n",
       "      <th>Brasil</th>\n",
       "      <td>212.0</td>\n",
       "      <td>2.73</td>\n",
       "    </tr>\n",
       "    <tr>\n",
       "      <th>Nigeria</th>\n",
       "      <td>206.0</td>\n",
       "      <td>2.64</td>\n",
       "    </tr>\n",
       "    <tr>\n",
       "      <th>Bangladesh</th>\n",
       "      <td>164.0</td>\n",
       "      <td>2.11</td>\n",
       "    </tr>\n",
       "    <tr>\n",
       "      <th>Rusia</th>\n",
       "      <td>145.0</td>\n",
       "      <td>1.87</td>\n",
       "    </tr>\n",
       "    <tr>\n",
       "      <th>México</th>\n",
       "      <td>128.0</td>\n",
       "      <td>1.65</td>\n",
       "    </tr>\n",
       "    <tr>\n",
       "      <th>Japón</th>\n",
       "      <td>126.0</td>\n",
       "      <td>1.62</td>\n",
       "    </tr>\n",
       "  </tbody>\n",
       "</table>\n",
       "</div>"
      ],
      "text/plain": [
       "                poblacion  porcentaje\n",
       "China              1439.0       18.47\n",
       "India              1380.0       17.70\n",
       "Estados Unidos      331.0        4.25\n",
       "Indonesia           273.0        3.51\n",
       "Pakistán            220.0        2.83\n",
       "Brasil              212.0        2.73\n",
       "Nigeria             206.0        2.64\n",
       "Bangladesh          164.0        2.11\n",
       "Rusia               145.0        1.87\n",
       "México              128.0        1.65\n",
       "Japón               126.0        1.62"
      ]
     },
     "execution_count": 161,
     "metadata": {},
     "output_type": "execute_result"
    }
   ],
   "source": [
    "# Japón -> 126, 1.62 \n",
    "renglon = pd.Series(name=\"Japón\", data=[126, 1.62], index=[\"poblacion\", \"porcentaje\"])\n",
    "print(renglon)\n",
    "\n",
    "paises = pd.concat([paises, renglon.to_frame().T])\n",
    "paises"
   ]
  },
  {
   "cell_type": "code",
   "execution_count": 162,
   "metadata": {},
   "outputs": [],
   "source": [
    "paises.drop([\"Japón\"], axis=0, inplace=True)"
   ]
  },
  {
   "cell_type": "markdown",
   "metadata": {},
   "source": [
    "### Funciones de estadística y de agregación básicas\n"
   ]
  },
  {
   "cell_type": "code",
   "execution_count": 163,
   "metadata": {},
   "outputs": [
    {
     "data": {
      "text/plain": [
       "(         poblacion  porcentaje\n",
       " count    10.000000   10.000000\n",
       " mean    449.800000    5.776000\n",
       " std     509.476376    6.534478\n",
       " min     128.000000    1.650000\n",
       " 25%     174.500000    2.242500\n",
       " 50%     216.000000    2.780000\n",
       " 75%     316.500000    4.065000\n",
       " max    1439.000000   18.470000,\n",
       " poblacion     128.00\n",
       " porcentaje      1.65\n",
       " dtype: float64)"
      ]
     },
     "execution_count": 163,
     "metadata": {},
     "output_type": "execute_result"
    }
   ],
   "source": [
    "paises.describe(), paises.min()"
   ]
  },
  {
   "cell_type": "code",
   "execution_count": 164,
   "metadata": {},
   "outputs": [
    {
     "data": {
      "text/html": [
       "<div>\n",
       "<style scoped>\n",
       "    .dataframe tbody tr th:only-of-type {\n",
       "        vertical-align: middle;\n",
       "    }\n",
       "\n",
       "    .dataframe tbody tr th {\n",
       "        vertical-align: top;\n",
       "    }\n",
       "\n",
       "    .dataframe thead th {\n",
       "        text-align: right;\n",
       "    }\n",
       "</style>\n",
       "<table border=\"1\" class=\"dataframe\">\n",
       "  <thead>\n",
       "    <tr style=\"text-align: right;\">\n",
       "      <th></th>\n",
       "      <th>poblacion</th>\n",
       "      <th>porcentaje</th>\n",
       "    </tr>\n",
       "  </thead>\n",
       "  <tbody>\n",
       "    <tr>\n",
       "      <th>China</th>\n",
       "      <td>1439.0</td>\n",
       "      <td>18.47</td>\n",
       "    </tr>\n",
       "    <tr>\n",
       "      <th>India</th>\n",
       "      <td>2819.0</td>\n",
       "      <td>36.17</td>\n",
       "    </tr>\n",
       "    <tr>\n",
       "      <th>Estados Unidos</th>\n",
       "      <td>3150.0</td>\n",
       "      <td>40.42</td>\n",
       "    </tr>\n",
       "    <tr>\n",
       "      <th>Indonesia</th>\n",
       "      <td>3423.0</td>\n",
       "      <td>43.93</td>\n",
       "    </tr>\n",
       "    <tr>\n",
       "      <th>Pakistán</th>\n",
       "      <td>3643.0</td>\n",
       "      <td>46.76</td>\n",
       "    </tr>\n",
       "    <tr>\n",
       "      <th>Brasil</th>\n",
       "      <td>3855.0</td>\n",
       "      <td>49.49</td>\n",
       "    </tr>\n",
       "    <tr>\n",
       "      <th>Nigeria</th>\n",
       "      <td>4061.0</td>\n",
       "      <td>52.13</td>\n",
       "    </tr>\n",
       "    <tr>\n",
       "      <th>Bangladesh</th>\n",
       "      <td>4225.0</td>\n",
       "      <td>54.24</td>\n",
       "    </tr>\n",
       "    <tr>\n",
       "      <th>Rusia</th>\n",
       "      <td>4370.0</td>\n",
       "      <td>56.11</td>\n",
       "    </tr>\n",
       "    <tr>\n",
       "      <th>México</th>\n",
       "      <td>4498.0</td>\n",
       "      <td>57.76</td>\n",
       "    </tr>\n",
       "  </tbody>\n",
       "</table>\n",
       "</div>"
      ],
      "text/plain": [
       "                poblacion  porcentaje\n",
       "China              1439.0       18.47\n",
       "India              2819.0       36.17\n",
       "Estados Unidos     3150.0       40.42\n",
       "Indonesia          3423.0       43.93\n",
       "Pakistán           3643.0       46.76\n",
       "Brasil             3855.0       49.49\n",
       "Nigeria            4061.0       52.13\n",
       "Bangladesh         4225.0       54.24\n",
       "Rusia              4370.0       56.11\n",
       "México             4498.0       57.76"
      ]
     },
     "execution_count": 164,
     "metadata": {},
     "output_type": "execute_result"
    }
   ],
   "source": [
    "paises.cumsum()"
   ]
  },
  {
   "cell_type": "code",
   "execution_count": 165,
   "metadata": {},
   "outputs": [
    {
     "data": {
      "text/plain": [
       "<Axes: >"
      ]
     },
     "execution_count": 165,
     "metadata": {},
     "output_type": "execute_result"
    },
    {
     "data": {
      "image/png": "[encoded data removed]",
      "text/plain": [
       "<Figure size 640x480 with 1 Axes>"
      ]
     },
     "metadata": {},
     "output_type": "display_data"
    }
   ],
   "source": [
    "paises.boxplot()"
   ]
  }
 ],
 "metadata": {
  "kernelspec": {
   "display_name": "Python 3",
   "language": "python",
   "name": "python3"
  },
  "language_info": {
   "codemirror_mode": {
    "name": "ipython",
    "version": 3
   },
   "file_extension": ".py",
   "mimetype": "text/x-python",
   "name": "python",
   "nbconvert_exporter": "python",
   "pygments_lexer": "ipython3",
   "version": "3.12.2"
  }
 },
 "nbformat": 4,
 "nbformat_minor": 4
}
